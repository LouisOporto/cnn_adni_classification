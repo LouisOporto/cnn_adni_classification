{
 "cells": [
  {
   "cell_type": "markdown",
   "metadata": {},
   "source": [
    "### Imported Libraries for CNN Project to Classify Alzhiemers"
   ]
  },
  {
   "cell_type": "code",
   "execution_count": 222,
   "metadata": {},
   "outputs": [],
   "source": [
    "# Include needed import modules\n",
    "import os\n",
    "import numpy as np\n",
    "import nibabel as nib\n",
    "import torch\n",
    "import torch.nn as nn\n",
    "import torch.optim as optim\n",
    "from torchvision import models, transforms, datasets\n",
    "from torch.utils.data import Dataset, DataLoader, random_split\n",
    "from PIL import Image\n",
    "\n",
    "# Define device\n",
    "device = torch.device(\"cuda\" if torch.cuda.is_available() else \"cpu\")"
   ]
  },
  {
   "cell_type": "code",
   "execution_count": 223,
   "metadata": {},
   "outputs": [],
   "source": [
    "from mpl_toolkits import mplot3d\n",
    "from matplotlib import pyplot as plt"
   ]
  },
  {
   "cell_type": "markdown",
   "metadata": {},
   "source": [
    "### Class for loading ADNI data as Nifti file and loading ResNet-50"
   ]
  },
  {
   "cell_type": "code",
   "execution_count": null,
   "metadata": {},
   "outputs": [],
   "source": [
    "# Create class for loading NiftiDataset\n",
    "class NiftiDataset(Dataset):\n",
    "    def __init__(self, image_dir, transform=None):\n",
    "        self.image_dir = image_dir\n",
    "        self.transform = transform\n",
    "        self.images = self.get_all_nifti_files(image_dir)\n",
    "\n",
    "    def get_all_nifti_files(self, folder_path):\n",
    "        # Recusrievly find files in folder_path that match regex\n",
    "        nii_files = []\n",
    "        for subdir, _, files in os.walk(folder_path):\n",
    "            for file in files:\n",
    "                if file.endswith(\".nii\"):\n",
    "                    nii_files.append(os.path.join(subdir, file))\n",
    "        print(f\"Loaded {len(nii_files)} .nii files from {folder_path}\\n\")\n",
    "        return nii_files\n",
    "\n",
    "    def __len__(self):\n",
    "        return len(self.images)\n",
    "\n",
    "    def __getitem__(self, idx):\n",
    "        img = nib.load(self.images[idx]).get_fdata()  # Load NIfTI image as NumPy array\n",
    "        img = np.array(img, dtype=np.float32)\n",
    "        \n",
    "        \n",
    "        # Normalize the image intensity\n",
    "        img = (img - np.min(img)) / (np.max(img) - np.min(img))  # Min-max normalization\n",
    "        \n",
    "        # Convert to 3D single-channel format (ResNet expects 3-channel input)\n",
    "        img = np.stack(img * 3, axis=-1)  # Convert grayscale to RGB\n",
    "        img = np.transpose(img, (2, 1, 0)) # Change to (C, H, W)\n",
    "\n",
    "        if self.transform:\n",
    "            img = self.transform(Image.fromarray(img.astype('uint8'), 'RGB'))\n",
    "\n",
    "        label = self.get_label_from_filename(self.images[idx])  # Implement a function to map filenames to labels\n",
    "        return img, label\n",
    "\n",
    "    def get_label_from_filename(self, filename):\n",
    "        \"\"\"Extract label based on filename convention.\"\"\"\n",
    "        if \"CN\" in filename:\n",
    "            return 0  # Cognitively Normal\n",
    "        elif \"MCI\" in filename:\n",
    "            return 1  # Mild Cognitive Impairment\n",
    "        elif \"AD\" in filename:\n",
    "            return 2  # Alzheimer's Disease\n",
    "        return -1  # Unknown label"
   ]
  },
  {
   "cell_type": "code",
   "execution_count": 225,
   "metadata": {},
   "outputs": [],
   "source": [
    "# Create class for loading ResNet-40 model\n",
    "class AlzheimerResNet(nn.Module):\n",
    "    def __init__(self, num_classes=3):\n",
    "        super(AlzheimerResNet, self).__init__()\n",
    "        self.model = models.resnet50(weights=\"ResNet50_Weights.DEFAULT\")\n",
    "        num_ftrs = self.model.fc.in_features\n",
    "        self.model.fc = nn.Linear(num_ftrs, num_classes) # Modify the output layer\n",
    "    \n",
    "    def forward(self, x):\n",
    "        return self.model(x)"
   ]
  },
  {
   "cell_type": "markdown",
   "metadata": {},
   "source": [
    "### Loading ADNI dataset"
   ]
  },
  {
   "cell_type": "code",
   "execution_count": 226,
   "metadata": {},
   "outputs": [
    {
     "name": "stdout",
     "output_type": "stream",
     "text": [
      "Loaded 38 .nii files from .\\adni_dataset\\ADNI\n",
      "\n"
     ]
    }
   ],
   "source": [
    "# Create transformations and loading dataset\n",
    "\n",
    "transform = transforms.Compose([\n",
    "    transforms.Resize((224, 244)), # Resize to fit ResNet-50\n",
    "    transforms.ToTensor(),\n",
    "    transforms.Normalize(mean=[0.5], std=[0.5]) # Normalizing single-channel data\n",
    "])\n",
    "\n",
    "\n",
    "full_dataset = NiftiDataset(image_dir=\".\\\\adni_dataset\\\\ADNI\", transform=transform)\n",
    "\n",
    "train_size = int(0.8 * len(full_dataset))\n",
    "test_size = len(full_dataset) - train_size\n",
    "\n",
    "train_dataset, val_dataset = random_split(full_dataset, [train_size, test_size])\n",
    "\n",
    "train_loader = DataLoader(train_dataset, batch_size=16, shuffle=True)\n",
    "val_loader = DataLoader(val_dataset, batch_size=16, shuffle=False)"
   ]
  },
  {
   "cell_type": "code",
   "execution_count": 227,
   "metadata": {},
   "outputs": [
    {
     "name": "stdout",
     "output_type": "stream",
     "text": [
      "torch.Size([3, 224, 244])\n",
      "2\n"
     ]
    },
    {
     "data": {
      "text/plain": [
       "<matplotlib.image.AxesImage at 0x28daf246710>"
      ]
     },
     "execution_count": 227,
     "metadata": {},
     "output_type": "execute_result"
    },
    {
     "data": {
      "image/png": "[encoded data removed]",
      "text/plain": [
       "<Figure size 640x480 with 1 Axes>"
      ]
     },
     "metadata": {},
     "output_type": "display_data"
    }
   ],
   "source": [
    "## Sample some of the images\n",
    "adni_sample, label = train_dataset[0]\n",
    "print(adni_sample.shape)\n",
    "print(label) # 0 = CN, 1 = MCI, 2 = AD (Current sample is AD)\n",
    "plt.imshow(adni_sample[:,:,80]) # Image is contained in a 256 x 256 image with 166 slices (MRI images)\n",
    "# ax = plt.axes(projection='3d')\n",
    "# ax.plot(test[0][0], test[1], 'green')\n",
    "# plt.show()"
   ]
  },
  {
   "cell_type": "markdown",
   "metadata": {},
   "source": [
    "### Loading Pretrained Resnet-50"
   ]
  },
  {
   "cell_type": "code",
   "execution_count": 228,
   "metadata": {},
   "outputs": [],
   "source": [
    "# Retrieve Resnet-50 model\n",
    "model = AlzheimerResNet().to(device)\n",
    "\n",
    "# Defline loss function\n",
    "criteria = nn.CrossEntropyLoss()\n",
    "optimizer = optim.Adam(model.parameters(), lr=0.0001)"
   ]
  },
  {
   "cell_type": "markdown",
   "metadata": {},
   "source": [
    "### Evaluation Function"
   ]
  },
  {
   "cell_type": "code",
   "execution_count": 229,
   "metadata": {},
   "outputs": [],
   "source": [
    "def evalulate_model(model, val_loader):\n",
    "    model.eval()\n",
    "    correct = 0\n",
    "    total = 0\n",
    "    with torch.no_grad():\n",
    "        for images, labels in val_loader:\n",
    "            images, labels = images.to(device), labels.to(device)\n",
    "            outputs = model(images)\n",
    "            _, predicted = torch.max(outputs, 1)\n",
    "            total += labels.size(0)\n",
    "            correct += (predicted == labels).sum().item()\n",
    "    return 100 * correct / total"
   ]
  },
  {
   "cell_type": "markdown",
   "metadata": {},
   "source": [
    "### Train Function"
   ]
  },
  {
   "cell_type": "code",
   "execution_count": 230,
   "metadata": {},
   "outputs": [],
   "source": [
    "def train_model(model, criteria, optimizer, train_loader, val_loader, num_epochs=10):\n",
    "    for epoch in range(num_epochs):\n",
    "        model.train()\n",
    "        running_loss = 0.0\n",
    "        correct = 0\n",
    "        total = 0\n",
    "        \n",
    "        for images, labels in train_loader:\n",
    "            images, labels = images.to(device), labels.to(device)\n",
    "            optimizer.zero_grad()\n",
    "            outputs = model(images)\n",
    "            loss = criteria(outputs, labels)\n",
    "            loss.backward()\n",
    "            optimizer.step()\n",
    "\n",
    "            running_loss += loss.item()\n",
    "            _, predicted = torch.max(outputs, 1)\n",
    "            total += labels.size(0)\n",
    "            correct += (predicted == labels).sum().item()\n",
    "\n",
    "        train_acc = 100 * correct / total\n",
    "        val_acc = evalulate_model(model, val_loader)\n",
    "        print(f\"Epoch [{epoch + 1}/{num_epochs}], Loss: {running_loss / len(train_loader):.4f}, Train Acc: {train_acc:.2f}%, Val Acc: {val_acc:.2f}%\")"
   ]
  },
  {
   "cell_type": "code",
   "execution_count": 231,
   "metadata": {},
   "outputs": [
    {
     "name": "stdout",
     "output_type": "stream",
     "text": [
      "Epoch [1/10], Loss: 1.0650, Train Acc: 100.00%, Val Acc: 100.00%\n",
      "Epoch [2/10], Loss: 0.9068, Train Acc: 100.00%, Val Acc: 100.00%\n",
      "Epoch [3/10], Loss: 0.7227, Train Acc: 100.00%, Val Acc: 100.00%\n",
      "Epoch [4/10], Loss: 0.5068, Train Acc: 100.00%, Val Acc: 100.00%\n",
      "Epoch [5/10], Loss: 0.2412, Train Acc: 100.00%, Val Acc: 100.00%\n",
      "Epoch [6/10], Loss: 0.1139, Train Acc: 100.00%, Val Acc: 100.00%\n",
      "Epoch [7/10], Loss: 0.0551, Train Acc: 100.00%, Val Acc: 100.00%\n",
      "Epoch [8/10], Loss: 0.0295, Train Acc: 100.00%, Val Acc: 100.00%\n",
      "Epoch [9/10], Loss: 0.0170, Train Acc: 100.00%, Val Acc: 100.00%\n",
      "Epoch [10/10], Loss: 0.0108, Train Acc: 100.00%, Val Acc: 100.00%\n"
     ]
    }
   ],
   "source": [
    "train_model(model, criteria, optimizer, train_loader, val_loader, num_epochs=10)"
   ]
  },
  {
   "cell_type": "code",
   "execution_count": 232,
   "metadata": {},
   "outputs": [],
   "source": [
    "torch.save(model.state_dict(), \"alzheimer_resnet50.pth\")"
   ]
  }
 ],
 "metadata": {
  "kernelspec": {
   "display_name": "env",
   "language": "python",
   "name": "python3"
  },
  "language_info": {
   "codemirror_mode": {
    "name": "ipython",
    "version": 3
   },
   "file_extension": ".py",
   "mimetype": "text/x-python",
   "name": "python",
   "nbconvert_exporter": "python",
   "pygments_lexer": "ipython3",
   "version": "3.13.2"
  }
 },
 "nbformat": 4,
 "nbformat_minor": 2
}
